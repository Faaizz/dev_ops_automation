{
 "metadata": {
  "language_info": {
   "codemirror_mode": {
    "name": "ipython",
    "version": 3
   },
   "file_extension": ".py",
   "mimetype": "text/x-python",
   "name": "python",
   "nbconvert_exporter": "python",
   "pygments_lexer": "ipython3",
   "version": 3
  },
  "orig_nbformat": 2,
  "kernelspec": {
   "name": "python_defaultSpec_1596565460459",
   "display_name": "Python 3.7.3 32-bit"
  }
 },
 "nbformat": 4,
 "nbformat_minor": 2,
 "cells": [
  {
   "cell_type": "markdown",
   "metadata": {},
   "source": [
    "## NGINX Server Configuration\n",
    "Sets up reverse proxy for web apps"
   ]
  },
  {
   "cell_type": "code",
   "execution_count": 1,
   "metadata": {},
   "outputs": [],
   "source": [
    "# Imports\n",
    "import argparse, subprocess, shutil\n",
    "\n",
    "from flask import Flask\n",
    "\n",
    "from misc import misc_funcs"
   ]
  },
  {
   "cell_type": "markdown",
   "metadata": {},
   "source": [
    "### Command-line arguments"
   ]
  },
  {
   "cell_type": "code",
   "execution_count": 2,
   "metadata": {},
   "outputs": [],
   "source": [
    "# Create parser object\n",
    "cl_parser= argparse.ArgumentParser(\n",
    "    description=\"automated site configuration for NGINX\"\n",
    ")"
   ]
  },
  {
   "cell_type": "code",
   "execution_count": 3,
   "metadata": {},
   "outputs": [
    {
     "output_type": "execute_result",
     "data": {
      "text/plain": "_StoreAction(option_strings=['--server_name'], dest='server_name', nargs=None, const=None, default='localhost', type=None, choices=None, help='Server hostname', metavar=None)"
     },
     "metadata": {},
     "execution_count": 3
    }
   ],
   "source": [
    "# Arguments\n",
    "\n",
    "# IP and Port of Web App to reverse proxy\n",
    "cl_parser.add_argument(\n",
    "    \"--from_site\", action=\"store\", default=\"localhost:8000\",\n",
    "    help=\"IP and port of web app to reverse proxy\"\n",
    ")\n",
    "\n",
    "# Site Name\n",
    "cl_parser.add_argument(\n",
    "    \"--name\", action=\"store\", default=\"mysite\",\n",
    "    help=\"Site name. Saves the configuration file as <name>.conf\"\n",
    ")\n",
    "\n",
    "# Server hostname\n",
    "cl_parser.add_argument(\n",
    "    \"--server_name\", action=\"store\", default=\"localhost\",\n",
    "    help=\"Server hostname\"\n",
    ")"
   ]
  },
  {
   "cell_type": "markdown",
   "metadata": {},
   "source": [
    "### Test Command-line arguments"
   ]
  },
  {
   "cell_type": "code",
   "execution_count": 4,
   "metadata": {},
   "outputs": [],
   "source": [
    "test_args= [\"--from_site\", \"127.0.0.1:5000\", \"--name\", \"test_nginx\", \"--server_name\", \"faaizz.com\"]"
   ]
  },
  {
   "cell_type": "markdown",
   "metadata": {},
   "source": [
    "### Collect supplied arguments"
   ]
  },
  {
   "cell_type": "code",
   "execution_count": 5,
   "metadata": {
    "tags": []
   },
   "outputs": [
    {
     "output_type": "execute_result",
     "data": {
      "text/plain": "Namespace(from_site='127.0.0.1:5000', name='test_nginx', server_name='faaizz.com')"
     },
     "metadata": {},
     "execution_count": 5
    }
   ],
   "source": [
    "# Collect command-line arguments\n",
    "install_options= cl_parser.parse_args(test_args)\n",
    "install_options"
   ]
  },
  {
   "cell_type": "markdown",
   "metadata": {},
   "source": [
    "### Create temporary directory and set as working directory"
   ]
  },
  {
   "cell_type": "code",
   "execution_count": 6,
   "metadata": {
    "tags": []
   },
   "outputs": [
    {
     "output_type": "stream",
     "name": "stdout",
     "text": "Creating temporary directory at /home/pi/Desktop/dev_ops_automation/temp/nginx...\n\n"
    }
   ],
   "source": [
    "# Temporary directory location\n",
    "temp_path= \"../temp/nginx\"\n",
    "\n",
    "# Log\n",
    "print(\n",
    "    \"Creating temporary directory at {0}...\\n\".format(os.path.abspath(temp_path))\n",
    ")\n",
    "\n",
    "# Create temporary directory\n",
    "misc_funcs.create_temp_dir(temp_path)"
   ]
  },
  {
   "cell_type": "code",
   "execution_count": 8,
   "metadata": {
    "tags": []
   },
   "outputs": [],
   "source": [
    "# Save working directory\n",
    "prev_wd=os.path.abspath(\"./\")\n",
    "\n",
    "# Change working directory to new temp directory\n",
    "os.chdir(temp_path)"
   ]
  },
  {
   "cell_type": "markdown",
   "metadata": {},
   "source": [
    "### Setup server configuration file"
   ]
  },
  {
   "cell_type": "code",
   "execution_count": 10,
   "metadata": {},
   "outputs": [
    {
     "output_type": "execute_result",
     "data": {
      "text/plain": "'./test_nginx'"
     },
     "metadata": {},
     "execution_count": 10
    }
   ],
   "source": [
    "# Path to save config file\n",
    "conf_path= \"./{0}\".format(install_options.name)\n",
    "conf_path"
   ]
  },
  {
   "cell_type": "code",
   "execution_count": 11,
   "metadata": {},
   "outputs": [],
   "source": [
    "# Template path\n",
    "src_path= \"../../src/misc/templates/nginx_site\""
   ]
  },
  {
   "cell_type": "code",
   "execution_count": 10,
   "metadata": {},
   "outputs": [],
   "source": [
    "# Setup string replacements\n",
    "reps= dict(\n",
    "    server_name= install_options.server_name,\n",
    "    from_site= install_options.from_site,\n",
    "    # FIX\n",
    "    http_upgrade= \"$http_upgrade\",\n",
    "    host= \"$host\"\n",
    ")"
   ]
  },
  {
   "cell_type": "code",
   "execution_count": 11,
   "metadata": {
    "tags": []
   },
   "outputs": [
    {
     "output_type": "stream",
     "name": "stdout",
     "text": "Populating template...\n"
    }
   ],
   "source": [
    "# Log\n",
    "print(\n",
    "    \"Populating template...\"\n",
    ")"
   ]
  },
  {
   "cell_type": "code",
   "execution_count": 12,
   "metadata": {
    "tags": []
   },
   "outputs": [],
   "source": [
    "# Populate template\n",
    "misc_funcs.populate_template(src_path, conf_path, reps)"
   ]
  },
  {
   "cell_type": "markdown",
   "metadata": {},
   "source": [
    "### Copy config file to /etc/nginx/sites-available"
   ]
  },
  {
   "cell_type": "code",
   "execution_count": 13,
   "metadata": {
    "tags": []
   },
   "outputs": [
    {
     "output_type": "stream",
     "name": "stdout",
     "text": "Copying config file /home/pi/Desktop/dev_ops_automation/temp/nginx/test_nginx to /etc/nginx/sites-available...\n\n"
    },
    {
     "output_type": "error",
     "ename": "PermissionError",
     "evalue": "[Errno 13] Permission denied: '/etc/nginx/sites-available/test_nginx'",
     "traceback": [
      "\u001b[0;31m---------------------------------------------------------------------------\u001b[0m",
      "\u001b[0;31mPermissionError\u001b[0m                           Traceback (most recent call last)",
      "\u001b[0;32m<ipython-input-13-4d5b7126a3a2>\u001b[0m in \u001b[0;36m<module>\u001b[0;34m()\u001b[0m\n\u001b[1;32m     11\u001b[0m \u001b[0;34m\u001b[0m\u001b[0m\n\u001b[1;32m     12\u001b[0m \u001b[0;31m# Copy operation\u001b[0m\u001b[0;34m\u001b[0m\u001b[0;34m\u001b[0m\u001b[0;34m\u001b[0m\u001b[0m\n\u001b[0;32m---> 13\u001b[0;31m \u001b[0mshutil\u001b[0m\u001b[0;34m.\u001b[0m\u001b[0mcopy\u001b[0m\u001b[0;34m(\u001b[0m\u001b[0mconf_path\u001b[0m\u001b[0;34m,\u001b[0m \u001b[0mdst_dir\u001b[0m\u001b[0;34m)\u001b[0m\u001b[0;34m\u001b[0m\u001b[0;34m\u001b[0m\u001b[0m\n\u001b[0m",
      "\u001b[0;32m/usr/lib/python3.7/shutil.py\u001b[0m in \u001b[0;36mcopy\u001b[0;34m(src, dst, follow_symlinks)\u001b[0m\n\u001b[1;32m    243\u001b[0m     \u001b[0;32mif\u001b[0m \u001b[0mos\u001b[0m\u001b[0;34m.\u001b[0m\u001b[0mpath\u001b[0m\u001b[0;34m.\u001b[0m\u001b[0misdir\u001b[0m\u001b[0;34m(\u001b[0m\u001b[0mdst\u001b[0m\u001b[0;34m)\u001b[0m\u001b[0;34m:\u001b[0m\u001b[0;34m\u001b[0m\u001b[0;34m\u001b[0m\u001b[0m\n\u001b[1;32m    244\u001b[0m         \u001b[0mdst\u001b[0m \u001b[0;34m=\u001b[0m \u001b[0mos\u001b[0m\u001b[0;34m.\u001b[0m\u001b[0mpath\u001b[0m\u001b[0;34m.\u001b[0m\u001b[0mjoin\u001b[0m\u001b[0;34m(\u001b[0m\u001b[0mdst\u001b[0m\u001b[0;34m,\u001b[0m \u001b[0mos\u001b[0m\u001b[0;34m.\u001b[0m\u001b[0mpath\u001b[0m\u001b[0;34m.\u001b[0m\u001b[0mbasename\u001b[0m\u001b[0;34m(\u001b[0m\u001b[0msrc\u001b[0m\u001b[0;34m)\u001b[0m\u001b[0;34m)\u001b[0m\u001b[0;34m\u001b[0m\u001b[0;34m\u001b[0m\u001b[0m\n\u001b[0;32m--> 245\u001b[0;31m     \u001b[0mcopyfile\u001b[0m\u001b[0;34m(\u001b[0m\u001b[0msrc\u001b[0m\u001b[0;34m,\u001b[0m \u001b[0mdst\u001b[0m\u001b[0;34m,\u001b[0m \u001b[0mfollow_symlinks\u001b[0m\u001b[0;34m=\u001b[0m\u001b[0mfollow_symlinks\u001b[0m\u001b[0;34m)\u001b[0m\u001b[0;34m\u001b[0m\u001b[0;34m\u001b[0m\u001b[0m\n\u001b[0m\u001b[1;32m    246\u001b[0m     \u001b[0mcopymode\u001b[0m\u001b[0;34m(\u001b[0m\u001b[0msrc\u001b[0m\u001b[0;34m,\u001b[0m \u001b[0mdst\u001b[0m\u001b[0;34m,\u001b[0m \u001b[0mfollow_symlinks\u001b[0m\u001b[0;34m=\u001b[0m\u001b[0mfollow_symlinks\u001b[0m\u001b[0;34m)\u001b[0m\u001b[0;34m\u001b[0m\u001b[0;34m\u001b[0m\u001b[0m\n\u001b[1;32m    247\u001b[0m     \u001b[0;32mreturn\u001b[0m \u001b[0mdst\u001b[0m\u001b[0;34m\u001b[0m\u001b[0;34m\u001b[0m\u001b[0m\n",
      "\u001b[0;32m/usr/lib/python3.7/shutil.py\u001b[0m in \u001b[0;36mcopyfile\u001b[0;34m(src, dst, follow_symlinks)\u001b[0m\n\u001b[1;32m    119\u001b[0m     \u001b[0;32melse\u001b[0m\u001b[0;34m:\u001b[0m\u001b[0;34m\u001b[0m\u001b[0;34m\u001b[0m\u001b[0m\n\u001b[1;32m    120\u001b[0m         \u001b[0;32mwith\u001b[0m \u001b[0mopen\u001b[0m\u001b[0;34m(\u001b[0m\u001b[0msrc\u001b[0m\u001b[0;34m,\u001b[0m \u001b[0;34m'rb'\u001b[0m\u001b[0;34m)\u001b[0m \u001b[0;32mas\u001b[0m \u001b[0mfsrc\u001b[0m\u001b[0;34m:\u001b[0m\u001b[0;34m\u001b[0m\u001b[0;34m\u001b[0m\u001b[0m\n\u001b[0;32m--> 121\u001b[0;31m             \u001b[0;32mwith\u001b[0m \u001b[0mopen\u001b[0m\u001b[0;34m(\u001b[0m\u001b[0mdst\u001b[0m\u001b[0;34m,\u001b[0m \u001b[0;34m'wb'\u001b[0m\u001b[0;34m)\u001b[0m \u001b[0;32mas\u001b[0m \u001b[0mfdst\u001b[0m\u001b[0;34m:\u001b[0m\u001b[0;34m\u001b[0m\u001b[0;34m\u001b[0m\u001b[0m\n\u001b[0m\u001b[1;32m    122\u001b[0m                 \u001b[0mcopyfileobj\u001b[0m\u001b[0;34m(\u001b[0m\u001b[0mfsrc\u001b[0m\u001b[0;34m,\u001b[0m \u001b[0mfdst\u001b[0m\u001b[0;34m)\u001b[0m\u001b[0;34m\u001b[0m\u001b[0;34m\u001b[0m\u001b[0m\n\u001b[1;32m    123\u001b[0m     \u001b[0;32mreturn\u001b[0m \u001b[0mdst\u001b[0m\u001b[0;34m\u001b[0m\u001b[0;34m\u001b[0m\u001b[0m\n",
      "\u001b[0;31mPermissionError\u001b[0m: [Errno 13] Permission denied: '/etc/nginx/sites-available/test_nginx'"
     ]
    }
   ],
   "source": [
    "# Copy config file to /etc/nginx/sites-available\n",
    "\n",
    "# Destination directory\n",
    "dst_dir= \"/etc/nginx/sites-available\"\n",
    "\n",
    "# Log\n",
    "print(\n",
    "    \"Copying config file {0} to {1}...\\n\"\n",
    "    .format(os.path.abspath(conf_path), dst_dir)\n",
    ")\n",
    "\n",
    "# Copy operation\n",
    "shutil.copy(conf_path, dst_dir)"
   ]
  },
  {
   "cell_type": "markdown",
   "metadata": {},
   "source": [
    "### NGINX Housekeeping"
   ]
  },
  {
   "cell_type": "code",
   "execution_count": 13,
   "metadata": {
    "tags": []
   },
   "outputs": [
    {
     "output_type": "stream",
     "name": "stdout",
     "text": "Attempting to create symbolic link in /etc/nginx/sites-enabled...\n\nb''\n\n"
    }
   ],
   "source": [
    "# Create symbolic link in /etc/nginx/sites-enabled\n",
    "\n",
    "# Log\n",
    "print(\n",
    "    \"Attempting to create symbolic link in /etc/nginx/sites-enabled...\\n\"\n",
    ")\n",
    "\n",
    "# Create child process\n",
    "sub_proc= subprocess.Popen(\n",
    "    \"sudo ln -s /etc/nginx/sites-available/{0} /etc/nginx/sites-enabled/\"\n",
    "    .format(install_options.name), shell=True, stdout=subprocess.PIPE,\n",
    "    stderr=subprocess.STDOUT\n",
    ")\n",
    "\n",
    "# Set timeout\n",
    "try:\n",
    "    (out, err)= sub_proc.communicate(timeout=5)\n",
    "    print(str(out) + \"\\n\")\n",
    "except subprocess.TimeoutExpired:\n",
    "    print(\"Failed to create symbolic link in sites-enabled folder...\")"
   ]
  },
  {
   "cell_type": "code",
   "execution_count": 16,
   "metadata": {
    "tags": []
   },
   "outputs": [
    {
     "output_type": "stream",
     "name": "stdout",
     "text": "Reloading NGINX service...\n\nb''\n\n"
    }
   ],
   "source": [
    "# Reload NGINX service\n",
    "\n",
    "# Log\n",
    "print(\n",
    "    \"Reloading NGINX service...\\n\"\n",
    ")\n",
    "\n",
    "sub_proc= subprocess.Popen(\n",
    "    \"sudo systemctl reload nginx\", shell=True,\n",
    "    stdout=subprocess.PIPE, stderr=subprocess.STDOUT\n",
    ")\n",
    "\n",
    "# Set timeout\n",
    "try:\n",
    "    (out, err)= sub_proc.communicate(timeout=5)\n",
    "    print(str(out) + \"\\n\")\n",
    "except subprocess.TimeoutExpired:\n",
    "    print(\"NGINX service reload failed...\")"
   ]
  },
  {
   "cell_type": "markdown",
   "metadata": {},
   "source": [
    "### Cleanup"
   ]
  },
  {
   "cell_type": "code",
   "execution_count": 18,
   "metadata": {
    "tags": []
   },
   "outputs": [
    {
     "output_type": "stream",
     "name": "stdout",
     "text": "Deleting files from ../nginx...\n\n"
    }
   ],
   "source": [
    "# Cleanup\n",
    "misc_funcs.cleanup(\"../nginx\")"
   ]
  },
  {
   "cell_type": "markdown",
   "metadata": {},
   "source": [
    "### Start Flask Web App for Demostration"
   ]
  },
  {
   "cell_type": "code",
   "execution_count": 14,
   "metadata": {},
   "outputs": [],
   "source": [
    "# CHange back to inital working directory\n",
    "os.chdir(prev_wd)"
   ]
  },
  {
   "cell_type": "code",
   "execution_count": 15,
   "metadata": {
    "tags": []
   },
   "outputs": [
    {
     "output_type": "stream",
     "name": "stdout",
     "text": "* Serving Flask app \"test_flask_app.py\"\n * Environment: production\n\u001b[31m   WARNING: Do not use the development server in a production environment.\u001b[0m\n\u001b[2m   Use a production WSGI server instead.\u001b[0m\n * Debug mode: off\n * Running on http://127.0.0.1:5000/ (Press CTRL+C to quit)\n^C\n"
    }
   ],
   "source": [
    "# Start test server\n",
    "!./misc/run_test_flask_app.sh"
   ]
  }
 ]
}